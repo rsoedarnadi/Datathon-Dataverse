{
 "cells": [
  {
   "cell_type": "code",
   "execution_count": null,
   "metadata": {},
   "outputs": [],
   "source": [
    "import pandas as pd\n",
    "\n",
    "# Load the Excel file\n",
    "file_path = \"./By Dep.xlsx\"  # Update with the correct path if needed\n",
    "xls = pd.ExcelFile(file_path)"
   ]
  },
  {
   "cell_type": "code",
   "execution_count": 9,
   "metadata": {},
   "outputs": [],
   "source": [
    "# Load the first sheet\n",
    "df = pd.read_excel(xls, sheet_name=\"Department\")\n",
    "\n",
    "\n",
    "# Convert numerical columns to proper data types\n",
    "num_cols = df.columns[1:4]\n",
    "df[num_cols] = df[num_cols].apply(pd.to_numeric, errors=\"coerce\")\n",
    "\n",
    "# Reshape data to long format for Power BI\n",
    "df_melted = df.melt(id_vars=[\"Department\", \"Year\"], var_name=\"Category\", value_name=\"Count\")\n",
    "\n",
    "# Split the category column into Role, Injury Severity, and Gender\n",
    "df_melted[[\"Injury_Severity\"]] = df_melted[\"Category\"].str.split(\"_\", expand=True)\n",
    "\n",
    "# Drop the original \"Category\" column\n",
    "df_melted = df_melted.drop(columns=[\"Category\"])\n",
    "\n",
    "# Reorder columns for better readability\n",
    "df_melted = df_melted[[\"Department\",\"Injury_Severity\", \"Year\", \"Count\"]]"
   ]
  },
  {
   "cell_type": "code",
   "execution_count": null,
   "metadata": {},
   "outputs": [
    {
     "name": "stdout",
     "output_type": "stream",
     "text": [
      "               Department Injury_Severity  Year  Count\n",
      "0       Madinatt khalifah           Death  2023     24\n",
      "1               Al Rayyan           Death  2023     11\n",
      "2              Al Maamora           Death  2023     18\n",
      "3  Al Thumama (Al Mattar)           Death  2023     12\n",
      "4              Al Shammal           Death  2023     34\n"
     ]
    }
   ],
   "source": [
    "\n",
    "# Save the cleaned data to a new file (optional)\n",
    "df_melted.to_csv(\"./Traffic_Data_Department.csv\", index=False)\n",
    "\n",
    "# Display the first few rows\n",
    "print(df_melted.head())"
   ]
  },
  {
   "cell_type": "code",
   "execution_count": null,
   "metadata": {},
   "outputs": [],
   "source": []
  }
 ],
 "metadata": {
  "kernelspec": {
   "display_name": "base",
   "language": "python",
   "name": "python3"
  },
  "language_info": {
   "codemirror_mode": {
    "name": "ipython",
    "version": 3
   },
   "file_extension": ".py",
   "mimetype": "text/x-python",
   "name": "python",
   "nbconvert_exporter": "python",
   "pygments_lexer": "ipython3",
   "version": "3.9.13"
  },
  "orig_nbformat": 4
 },
 "nbformat": 4,
 "nbformat_minor": 2
}
